{
  "nbformat": 4,
  "nbformat_minor": 0,
  "metadata": {
    "colab": {
      "provenance": [],
      "include_colab_link": true
    },
    "kernelspec": {
      "name": "python3",
      "display_name": "Python 3"
    },
    "language_info": {
      "name": "python"
    }
  },
  "cells": [
    {
      "cell_type": "markdown",
      "metadata": {
        "id": "view-in-github",
        "colab_type": "text"
      },
      "source": [
        "<a href=\"https://colab.research.google.com/github/SteicySingh/Data-Analysis-using-Python/blob/main/Colab_Assignment.ipynb\" target=\"_parent\"><img src=\"https://colab.research.google.com/assets/colab-badge.svg\" alt=\"Open In Colab\"/></a>"
      ]
    },
    {
      "cell_type": "markdown",
      "source": [
        "First we need to download the collection.  We'll do this by using the Unix wget command to download a zip file, and then the Unix unzip command.  To use a Unix command in a Colab notebook, just precede it with a !"
      ],
      "metadata": {
        "id": "Z9OCqd-f_Kmx"
      }
    },
    {
      "cell_type": "code",
      "execution_count": 1,
      "metadata": {
        "colab": {
          "base_uri": "https://localhost:8080/"
        },
        "id": "CBM8JmSf7IGM",
        "outputId": "4b439487-7f04-4359-f4aa-77347c21b276"
      },
      "outputs": [
        {
          "output_type": "stream",
          "name": "stdout",
          "text": [
            "--2023-12-07 19:40:54--  https://users.umiacs.umd.edu/~oard/cables.zip\n",
            "Resolving users.umiacs.umd.edu (users.umiacs.umd.edu)... 128.8.120.33\n",
            "Connecting to users.umiacs.umd.edu (users.umiacs.umd.edu)|128.8.120.33|:443... connected.\n",
            "HTTP request sent, awaiting response... 200 OK\n",
            "Length: 509664391 (486M) [application/zip]\n",
            "Saving to: ‘cables.zip’\n",
            "\n",
            "cables.zip          100%[===================>] 486.05M  56.5MB/s    in 13s     \n",
            "\n",
            "2023-12-07 19:41:07 (38.1 MB/s) - ‘cables.zip’ saved [509664391/509664391]\n",
            "\n",
            "starting unzip\n",
            "unzip cpmplete, files stored in cables/\n"
          ]
        }
      ],
      "source": [
        "!wget https://users.umiacs.umd.edu/~oard/cables.zip\n",
        "print('starting unzip')\n",
        "!unzip -u -q cables.zip\n",
        "print('unzip cpmplete, files stored in cables/')"
      ]
    },
    {
      "cell_type": "code",
      "source": [
        "import xml.etree.ElementTree as ET\n",
        "\n"
      ],
      "metadata": {
        "id": "VJg0JvVdRVQe"
      },
      "execution_count": 2,
      "outputs": []
    },
    {
      "cell_type": "code",
      "source": [
        "import os\n",
        "\n",
        "tokens=[]\n",
        "i=0\n",
        "files = 0\n",
        "tokens.clear()\n",
        "for file in os.listdir('cables'):\n",
        "    if file.startswith('CFPF.TEL') and file.endswith('PU') and files < 20:\n",
        "        tree=ET.parse('cables/' + file)\n",
        "        root = tree.getroot()\n",
        "        print(file)\n",
        "        for message in list(root.iter('msgtext')):\n",
        "            tok = message.text.split()\n",
        "            if len(tok)>0:\n",
        "                tokens.append(tok)\n",
        "                for j in range(len(tokens[i])):\n",
        "                    tokens[i][j] = tokens[i][j].casefold().strip(\".,:*/'())-\")\n",
        "                if i<1:\n",
        "                    print(tokens[i])\n",
        "                i += 1\n",
        "        files += 1\n",
        "print(len(tokens))\n"
      ],
      "metadata": {
        "id": "c0zxXL0ogUp7",
        "colab": {
          "base_uri": "https://localhost:8080/"
        },
        "outputId": "caed9250-51ca-4254-dd67-304633ca8b8d"
      },
      "execution_count": 4,
      "outputs": [
        {
          "output_type": "stream",
          "name": "stdout",
          "text": [
            "CFPF.TEL.AUG73.PU\n",
            "['mrn', '1973nato', 'b004010', 'segment', 'number', '000001', 'error', 'reading', 'text', 'index', 'file;', 'telegram', 'text', 'for', 'this', 'mrn', 'is', 'unavailable']\n",
            "CFPF.TEL.DEC73.PU\n",
            "CFPF.TEL.MAY73.PU\n",
            "CFPF.TEL.JUN74.PU\n",
            "CFPF.TEL.JUL73.PU\n",
            "CFPF.TEL.DEC74.PU\n",
            "CFPF.TEL.OCT74.PU\n",
            "CFPF.TEL.NOV73.PU\n",
            "CFPF.TEL.APR73.PU\n",
            "CFPF.TEL.SEP73.PU\n",
            "CFPF.TEL.JAN73.PU\n",
            "CFPF.TEL.JAN74.PU\n",
            "CFPF.TEL.APR74.PU\n",
            "CFPF.TEL.AUG74.PU\n",
            "CFPF.TEL.SEP74.PU\n",
            "CFPF.TEL.NOV74.PU\n",
            "CFPF.TEL.JUL74.PU\n",
            "CFPF.TEL.JUN73.PU\n",
            "CFPF.TEL.OCT73.PU\n",
            "CFPF.TEL.MAR73.PU\n",
            "268161\n"
          ]
        }
      ]
    },
    {
      "cell_type": "code",
      "source": [
        "from datetime import datetime\n",
        "import os\n",
        "\n",
        "dates=[]\n",
        "i=0\n",
        "files = 0\n",
        "dates.clear()\n",
        "for file in os.listdir('cables'):\n",
        "    if file.startswith('CFPF.TEL') and file.endswith('PU') and files < 20:\n",
        "        tree=ET.parse('cables/' + file)\n",
        "        root = tree.getroot()\n",
        "        print(file)\n",
        "        for date in list(root.iter('date')):\n",
        "            dte = date.text\n",
        "            if len(dte)>0:\n",
        "                dates.append(dte)\n",
        "\n",
        "                if i<5:\n",
        "                    print(dates[i])\n",
        "                i += 1\n",
        "        files += 1\n",
        "print(len(dates))\n",
        "\n",
        "\n",
        "\n",
        "\n",
        "        #\"Jun 28 2018 at 7:40AM\" -> \"%b %d %Y at %I:%M%p\"\n"
      ],
      "metadata": {
        "colab": {
          "base_uri": "https://localhost:8080/"
        },
        "id": "qADKUkWFbvmH",
        "outputId": "4ed6d9db-7027-4536-bec2-baa03438b9da"
      },
      "execution_count": 5,
      "outputs": [
        {
          "output_type": "stream",
          "name": "stdout",
          "text": [
            "CFPF.TEL.AUG73.PU\n",
            "28 AUG 1973\n",
            "16 AUG 1973\n",
            "21 AUG 1973\n",
            "01 AUG 1973\n",
            "27 AUG 1973\n",
            "CFPF.TEL.DEC73.PU\n",
            "CFPF.TEL.MAY73.PU\n",
            "CFPF.TEL.JUN74.PU\n",
            "CFPF.TEL.JUL73.PU\n",
            "CFPF.TEL.DEC74.PU\n",
            "CFPF.TEL.OCT74.PU\n",
            "CFPF.TEL.NOV73.PU\n",
            "CFPF.TEL.APR73.PU\n",
            "CFPF.TEL.SEP73.PU\n",
            "CFPF.TEL.JAN73.PU\n",
            "CFPF.TEL.JAN74.PU\n",
            "CFPF.TEL.APR74.PU\n",
            "CFPF.TEL.AUG74.PU\n",
            "CFPF.TEL.SEP74.PU\n",
            "CFPF.TEL.NOV74.PU\n",
            "CFPF.TEL.JUL74.PU\n",
            "CFPF.TEL.JUN73.PU\n",
            "CFPF.TEL.OCT73.PU\n",
            "CFPF.TEL.MAR73.PU\n",
            "269048\n"
          ]
        }
      ]
    },
    {
      "cell_type": "code",
      "source": [
        "fmindex=0\n",
        "TravelLocation=[]\n",
        "FilterDate=[]\n",
        "\n",
        "for i in range(len(tokens)):\n",
        "    for j in range(len(tokens[i])):\n",
        "        if tokens[i][j] == 'kissinger' and (len(tokens[i])-j)<10 and tokens[i].count('fm')==1:\n",
        "           # print('Kissinger found in message', i)\n",
        "            fmindex = tokens[i].index('fm')\n",
        "            FilterDate.append(dates[i])\n",
        "            #with open(\"Kissinger_Travel.txt\",\"a\") as f:\n",
        "            if tokens[i][fmindex+3]!='to' and tokens[i][fmindex+3]!='info':\n",
        "                Loc= (tokens[i][fmindex+1]+tokens[i][fmindex+2]+tokens[i][fmindex+3])\n",
        "                TravelLocation.append(Loc)\n",
        "\n",
        "            else:\n",
        "               Loc= (tokens[i][fmindex+1]+' '+tokens[i][fmindex+2])\n",
        "               TravelLocation.append(Loc)\n",
        "#with open('Kissinger_Travel.txt') as f:\n",
        "  #contents = f.read()\n",
        "  #print(contents)\n",
        "\n",
        "print(len(TravelLocation))\n",
        "#print(TravelLocation)\n",
        "print(len(FilterDate))\n",
        "#print(FilterDate)\n",
        "\n",
        "\n"
      ],
      "metadata": {
        "colab": {
          "base_uri": "https://localhost:8080/"
        },
        "id": "v2D1IAewpF9b",
        "outputId": "2d164a25-70e0-4916-dd75-acfaa3ec1c14"
      },
      "execution_count": 6,
      "outputs": [
        {
          "output_type": "stream",
          "name": "stdout",
          "text": [
            "27191\n",
            "27191\n"
          ]
        }
      ]
    },
    {
      "cell_type": "code",
      "source": [
        "for i in range(len(FilterDate)):\n",
        "        date_time_obj = datetime.strptime(FilterDate[i], '%d %b %Y')\n",
        "        dates[i] = date_time_obj\n",
        "\n",
        "'''k = 34\n",
        "n = len(dates)\n",
        "for i in range(n-k, n):\n",
        "    dates.pop()'''\n",
        "\n",
        "print(len(FilterDate))"
      ],
      "metadata": {
        "colab": {
          "base_uri": "https://localhost:8080/"
        },
        "id": "FeAooi5D-16C",
        "outputId": "d9d55b8f-56b3-41c3-c061-db52bfde8655"
      },
      "execution_count": 7,
      "outputs": [
        {
          "output_type": "stream",
          "name": "stdout",
          "text": [
            "27191\n"
          ]
        }
      ]
    },
    {
      "cell_type": "code",
      "source": [
        "import pandas as pd\n",
        "list1 = FilterDate\n",
        "list2 = TravelLocation\n",
        "col1 = \"Date of Travel\"\n",
        "col2 = \"Organization\"\n",
        "data = pd.DataFrame({col1:list1,col2:list2})\n",
        "data.to_excel('sample_data.xlsx', sheet_name='sheet1', index=False)"
      ],
      "metadata": {
        "id": "2Rdtn4G405Eb"
      },
      "execution_count": 10,
      "outputs": []
    },
    {
      "cell_type": "code",
      "source": [
        "dfexcel = pd.read_excel('sample_data.xlsx')\n",
        "\n",
        "Final_result = dfexcel.sort_values('Date of Travel')\n",
        "\n",
        "print(\" Sorted Date DataFrame\")\n",
        "Final_result.to_excel(\"output.xlsx\")\n",
        "\n",
        "\n",
        "\n",
        "\n",
        "\n",
        "\n"
      ],
      "metadata": {
        "colab": {
          "base_uri": "https://localhost:8080/"
        },
        "id": "2hcbODaE3ga4",
        "outputId": "f8977dbd-ddfb-4f07-8f3e-9d064a4a646d"
      },
      "execution_count": 11,
      "outputs": [
        {
          "output_type": "stream",
          "name": "stdout",
          "text": [
            " Sorted Date DataFrame\n"
          ]
        }
      ]
    },
    {
      "cell_type": "code",
      "source": [
        "import pandas as pd\n",
        "\n",
        "with open('Kissinger_Travel.txt', 'w') as file:\n",
        "    pd.read_excel('output.xlsx').to_string(file, index=False)"
      ],
      "metadata": {
        "id": "zlLp0muR4hwy"
      },
      "execution_count": 12,
      "outputs": []
    },
    {
      "cell_type": "code",
      "source": [
        "with open('Kissinger_Travel.txt') as f:\n",
        "  contents = f.read()\n",
        "  #print(contents)"
      ],
      "metadata": {
        "id": "eH5-V5fu5OVF"
      },
      "execution_count": 13,
      "outputs": []
    },
    {
      "cell_type": "code",
      "source": [],
      "metadata": {
        "id": "DU27GnPZHlZL"
      },
      "execution_count": null,
      "outputs": []
    },
    {
      "cell_type": "code",
      "source": [],
      "metadata": {
        "id": "RFQ_924B4YTy"
      },
      "execution_count": null,
      "outputs": []
    },
    {
      "cell_type": "markdown",
      "source": [
        "# New section"
      ],
      "metadata": {
        "id": "uRHV9zhv4Fa8"
      }
    },
    {
      "cell_type": "markdown",
      "source": [
        "OK, we've seen how to get text over the Internet using wget (and unzip), how to iterate throgh files in a directory (which we created using unzip), how to parse XML to get specific fields (subject and msgtext), how to split long strings into lists of tokens, and how to match full strings and substrings.  In Assignment 1 you'll use these capabiilities to answer a question.  "
      ],
      "metadata": {
        "id": "7XP4W7i9zGyv"
      }
    }
  ]
}